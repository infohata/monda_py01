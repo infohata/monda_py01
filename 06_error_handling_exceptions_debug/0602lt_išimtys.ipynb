{
 "cells": [
  {
   "cell_type": "markdown",
   "metadata": {},
   "source": [
    "# Išimtys\n",
    "\n",
    "## TypeError\n",
    "\n",
    "Viena iš paistaikančių klaidų, kai naudojamas ne tas duomenų tipas yra `TypeError`. \n",
    ">Pavyzdžiui, kai bandoma sujungti skirtingus duomenų tipus:"
   ]
  },
  {
   "cell_type": "code",
   "execution_count": null,
   "metadata": {},
   "outputs": [],
   "source": [
    "skaicius = 42\n",
    "vardas = \"John\"\n",
    "rezultatas = skaicius + vardas  # TypeError: can only concatenate str (not \"int\") to str / Negalima sujungti teksto eilutės su intedžeriu"
   ]
  },
  {
   "cell_type": "markdown",
   "metadata": {},
   "source": [
    "Klaidų gaudymui, naudojame `try` ir `except` blokus, \n",
    ">kurie mus leidžia susitvarkyti su kalidomis ir tęsti kodo vykdymą:"
   ]
  },
  {
   "cell_type": "code",
   "execution_count": null,
   "metadata": {},
   "outputs": [],
   "source": [
    "skaicius = 42\n",
    "vardas = \"John\"\n",
    "try:\n",
    "    rezultatas = vardas + skaicius\n",
    "except TypeError:\n",
    "    print(\"Error: negalima sujungti 'str' ir 'int' duomenų tipų\")  # Error: negalima sujungti 'str' ir 'int' duomenų tipų"
   ]
  },
  {
   "cell_type": "markdown",
   "metadata": {},
   "source": [
    "# `Greita Užduotis 1: TypeError Užduotis`\n",
    "\n",
    "1. Parašykite programą kurioje bandoma sujungti teksto eilutę 'string' ir intedžerį 'int'.\n",
    "1. Naudokite `try` ir `except` blokus pagauti `TypeError` ir išspausdinti žinutę."
   ]
  },
  {
   "cell_type": "code",
   "execution_count": null,
   "metadata": {},
   "outputs": [],
   "source": [
    "# Jūsų kodas"
   ]
  },
  {
   "cell_type": "markdown",
   "metadata": {},
   "source": [
    "## NameError\n",
    "Naudojant nepavadintą kintamajį gaunama `NameError` klaida, \n",
    ">Pavyzdžiui:"
   ]
  },
  {
   "cell_type": "code",
   "execution_count": null,
   "metadata": {},
   "outputs": [],
   "source": [
    "a = 10\n",
    "print(b)  # NameError: name 'b' is not defined"
   ]
  },
  {
   "cell_type": "markdown",
   "metadata": {},
   "source": [
    "Bus metama `NameError` klaida nes kintamasis 'b' nebuvo aprašytas prieštai programoje. \n",
    ">Šią klaidą galima pagauti naudojant `try` ir `except` blokus:"
   ]
  },
  {
   "cell_type": "code",
   "execution_count": null,
   "metadata": {},
   "outputs": [],
   "source": [
    "a = 10\n",
    "try:\n",
    "    print(b)\n",
    "except NameError:\n",
    "    print(\"Error: kintamasis nėra pavadintas\")  # Error: kintamasis nėra pavadintas"
   ]
  },
  {
   "cell_type": "markdown",
   "metadata": {},
   "source": [
    "# `Greita užduotis 2: NameError Užduotis`\n",
    "\n",
    "1. Parašykite programą kurioje kintamasis nebuvo pavadintas.\n",
    "1. Naudokite `try` ir `except` blokus pagauti `NameError` ir išspausdinti žinutę."
   ]
  },
  {
   "cell_type": "code",
   "execution_count": null,
   "metadata": {},
   "outputs": [],
   "source": [
    "# Jūsų Kodas"
   ]
  },
  {
   "cell_type": "markdown",
   "metadata": {},
   "source": [
    "## ValueError, ZeroDivisionError\n",
    "`ValueError` klaida įvyksta tada kai bandoma paversti duomenis į kitą duomenų tipą, bet to negalima padaryti dėl nekonvertuojamų duomenų tipo.\n",
    "\n",
    ">Pavyzdžiui:"
   ]
  },
  {
   "cell_type": "code",
   "execution_count": null,
   "metadata": {},
   "outputs": [],
   "source": [
    "try:\n",
    "    x = int('abc')\n",
    "except ValueError:\n",
    "    print(\"Error: negalima paversti raidžių vertės į skaičių\")  # Error: negalima paversti raidžių vertės į skaičių"
   ]
  },
  {
   "cell_type": "markdown",
   "metadata": {},
   "source": [
    "# `Greita Užduotis 3: ValueError Užduotis`\n",
    "\n",
    "1. Sukurkite programą, kuri bando paversti neskaitinią teksto eilutę į intedžerį (pvz., \"abc\" į int).\n",
    "1. Naudokite `try` ir `except` blokus `ValueError` klaidai, išspausdinkite klaidos žinutę."
   ]
  },
  {
   "cell_type": "code",
   "execution_count": null,
   "metadata": {},
   "outputs": [],
   "source": [
    "# Jūsų Kodas"
   ]
  },
  {
   "cell_type": "markdown",
   "metadata": {},
   "source": [
    "`ZeroDivisionError` klaida metama kai bandoma padalinti skaičių iš nulio. This is an invalid mathematical operation, so it raises this error when you try to perform it. \n",
    "\n",
    ">Pavyzdžiui:"
   ]
  },
  {
   "cell_type": "code",
   "execution_count": null,
   "metadata": {},
   "outputs": [],
   "source": [
    "try:\n",
    "    x = 1/0\n",
    "except ZeroDivisionError:\n",
    "    print(\"Error: negalima dalinti iš nulio\")  # Error: negalima daltinti iš nulio"
   ]
  },
  {
   "cell_type": "markdown",
   "metadata": {},
   "source": [
    "# `Greita Užduotis 4: ZeroDivisionError Užduotis`\n",
    "\n",
    "1. Sukurkite programą kuri skaičių dalina iš nulio (pvz., `1 / 0`).\n",
    "1. Naudokite `try` ir `except` blokus pagauti `ZeroDivisionError` klaidą ir parodykite klaidos žinutę."
   ]
  },
  {
   "cell_type": "code",
   "execution_count": null,
   "metadata": {},
   "outputs": [],
   "source": [
    "# Jūsų Kodas"
   ]
  },
  {
   "cell_type": "markdown",
   "metadata": {},
   "source": [
    "## IndexError Sąrašams, KeyError for Žodynams\n",
    "`IndexError` įvyksta kai bandoma prieiti prie elemento kuris neegzistuoja nurodytu indeksu.\n",
    "\n",
    ">Pavyzdžiui:"
   ]
  },
  {
   "cell_type": "code",
   "execution_count": 2,
   "metadata": {},
   "outputs": [
    {
     "name": "stdout",
     "output_type": "stream",
     "text": [
      "Error: elemento nėra indekso ribose\n"
     ]
    }
   ],
   "source": [
    "mano_sarasas = [1, 2, 3]\n",
    "\n",
    "try:\n",
    "    print(mano_sarasas[3])\n",
    "except IndexError:\n",
    "    print(\"Error: elemento nėra indekso ribose\")  # Error: elemento nėra indekso ribose"
   ]
  },
  {
   "cell_type": "markdown",
   "metadata": {},
   "source": [
    "# `Greita Užduotis 5: IndexError Užduotis`\n",
    "\n",
    "\n",
    "1. Parašykite programą, kuri bando pasiekti elementą sąraše naudodama indeksą, kuris yra už diapazono ribų.\n",
    "1. Naudokite blokus `try` ir `except`, kad pagauti „IndexError“ ir išspausdintumėte tinkintą klaidos pranešimą."
   ]
  },
  {
   "cell_type": "code",
   "execution_count": null,
   "metadata": {},
   "outputs": [],
   "source": [
    "# Jūsų Kodas"
   ]
  },
  {
   "cell_type": "markdown",
   "metadata": {},
   "source": [
    "`KeyError` klaida metama kai bandoma pasiekti žodyno raktą kuris neegzistuoja.  \n",
    "\n",
    ">Pavyzdžiui:"
   ]
  },
  {
   "cell_type": "code",
   "execution_count": null,
   "metadata": {},
   "outputs": [],
   "source": [
    "mano_zodynas = {\"a\": 1, \"b\": 2, \"c\": 3}\n",
    "\n",
    "try:\n",
    "    print(mano_zodynas[\"d\"])\n",
    "except KeyError:\n",
    "    print(\"Error: ranktas neegzistuoja žodyne\")  # Error: ranktas neegzistuoja žodyne"
   ]
  },
  {
   "cell_type": "markdown",
   "metadata": {},
   "source": [
    "# `Greita Užduotis 6: KeyError Užduotis`\n",
    "\n",
    "1. Sukurkite programą, kuri bando pasiekti raktą žodyne, kurio nėra.\n",
    "1. Naudokite blokus `try` and `except`, kad gautumėte `KeyError` klaidą ir parodytumėte klaidos pranešimą."
   ]
  },
  {
   "cell_type": "code",
   "execution_count": null,
   "metadata": {},
   "outputs": [],
   "source": [
    "# Jūsų Kodas"
   ]
  },
  {
   "cell_type": "markdown",
   "metadata": {},
   "source": [
    "## AttributeError Objektams\n",
    "`AttributeError` klaida yra metama, kai programa bando pasiekti atributą kuris neegzistuoja objekte arba klasėje. \n",
    "\n",
    ">Pavyzdžiui:"
   ]
  },
  {
   "cell_type": "code",
   "execution_count": null,
   "metadata": {},
   "outputs": [],
   "source": [
    "class Asmuo:\n",
    "    def __init__(self, vardas, amzius):\n",
    "        self.vardas = vardas\n",
    "        self.amzius = amzius\n",
    "\n",
    "asmuo = Asmuo(\"Jonas\", 25)\n",
    "print(asmuo.vardas)  # \"Jonas\"\n",
    "print(asmuo.pavarde)  # AttributeError: 'Asmuo' objektas neturi atributo '"
   ]
  },
  {
   "cell_type": "markdown",
   "metadata": {},
   "source": [
    "Tam kad apsaugoti programą nuo `AttributeError` klaidų, galite naudoti `try`-`except` blokus:"
   ]
  },
  {
   "cell_type": "code",
   "execution_count": null,
   "metadata": {},
   "outputs": [],
   "source": [
    "try:\n",
    "    print(asmuo.pavarde)\n",
    "except AttributeError:\n",
    "    print(\"Error: 'pavarde' atributas neegzistuoja\")  # Error: 'pavarde' atributas neegzistuoja"
   ]
  },
  {
   "cell_type": "markdown",
   "metadata": {},
   "source": [
    "# `Greita Užduotis 7: AttributeError Užduotis`\n",
    "\n",
    "1. Sukurkite `class` su kai kuriais atributais ir pabandykite pasiekti atributą, kurio tos klasės egzemplioriui nėra.\n",
    "1. Naudokite blokus `try` ir `except`, kad gautumėte `AttributeError` ir išspausdintumėte  klaidos pranešimą."
   ]
  },
  {
   "cell_type": "code",
   "execution_count": null,
   "metadata": {},
   "outputs": [],
   "source": [
    "# Your code here"
   ]
  },
  {
   "cell_type": "markdown",
   "metadata": {},
   "source": [
    "## Funkcijos `hasattr()` naudojimas Patikrinti Objektų Atributus"
   ]
  },
  {
   "cell_type": "markdown",
   "metadata": {},
   "source": [
    "`hasattr()` funkcija leidžia patikrinti ar objektas turi tam tikrą atributą. Funkcija paima objekto ir atributo pavadinimus kaip argumentus ir grąžina `True` jeigu atributai egzistuoja, ir `False`, jei neegzistuoja. \n",
    "\n",
    ">Pavyzdžiui:"
   ]
  },
  {
   "cell_type": "code",
   "execution_count": null,
   "metadata": {},
   "outputs": [],
   "source": [
    "if hasattr(asmuo, 'pavarde'):\n",
    "    print(asmuo.pavarde)\n",
    "else:\n",
    "    print(\"Error: 'pavarde' atributas neegzistuoja')  # Error: 'pavarde' atributas neegzistuoja"
   ]
  },
  {
   "cell_type": "markdown",
   "metadata": {},
   "source": [
    "# `Greita Užduotis 8: hasattr() Užduotis`\n",
    "\n",
    "1. Pakeiskite ankstesnę programą 'Greita Užduotis 7' naudodami „AttributeError“, kad patikrintumėte, ar atributas egzistuoja, naudodami funkciją `hasattr()`.\n",
    "1. Jei yra, atspausdinkite atributo reikšmę; kitu atveju parodykite klaidos pranešimą."
   ]
  },
  {
   "cell_type": "code",
   "execution_count": null,
   "metadata": {},
   "outputs": [],
   "source": [
    "# Jūsų Kodas"
   ]
  },
  {
   "cell_type": "markdown",
   "metadata": {},
   "source": [
    "## Naudoti `Exception` kaip 'Generic Exception Class' ir gauti išimties vardą su `__class__.__name__`"
   ]
  },
  {
   "cell_type": "markdown",
   "metadata": {},
   "source": [
    "`Exception` yra paprastas `try`-`except` blokas kuris pagauna bet kokio tipo klaidas. \n",
    ">Tai naudinga kai nenori aprašyti kiekvienos potencialios klaidos, ir nori jas visas pagauti viename bloke."
   ]
  },
  {
   "cell_type": "markdown",
   "metadata": {},
   "source": [
    "Galima pakeisti klaidos pavadinimus `as` raktinį žodį tam kad jį sutrumpinti ar padaryti labiau suprantama. \n",
    "\n",
    ">Specifikuotas kintamasis gali būti naudojamas kaip argumentas išspausdinti klaidos žinutei:"
   ]
  },
  {
   "cell_type": "code",
   "execution_count": null,
   "metadata": {},
   "outputs": [],
   "source": [
    "try:\n",
    "    x = 1 / 0\n",
    "except Exception as e:\n",
    "    print(\"Exception:\", e)  # Exception: dalyba iš nulop"
   ]
  },
  {
   "cell_type": "markdown",
   "metadata": {},
   "source": [
    "Kai klaida pagauta, galim gauti jos pavadinimą naudojant `__class__.__name__`. \n",
    "\n",
    ">Tai leidžia identifikuoti klaidas tiksliau atsižvelgiant į situaciją:"
   ]
  },
  {
   "cell_type": "code",
   "execution_count": null,
   "metadata": {},
   "outputs": [],
   "source": [
    "try:\n",
    "    x = 1 / 0\n",
    "except Exception as e:\n",
    "    print(\"Exception:\", e.__class__.__name__)  # Exception: ZeroDivisionError"
   ]
  },
  {
   "cell_type": "markdown",
   "metadata": {},
   "source": [
    "# `Greita Užduotis 9: Išimtis kaip bendrosios išimties klasės priskyrimas`\n",
    "\n",
    "1. Write a program that contains multiple types of exceptions, including those you've learned about (e.g., `ZeroDivisionError`, `ValueError`). \n",
    "2. Use a generic `try` and `except` block with `Exception as e` to catch all exceptions and print the exception type (class name) and a custom error message.\n",
    "\n",
    "1. Parašykite programą, kurioje yra kelių tipų išimčių, įskaitant tas, apie kurias sužinojote (pvz., `ZeroDivisionError`, `ValueError`).\n",
    "2. Naudokite bendrąjį `try` ir `except` bloką su `Exception as e`, kad gautumėte visas išimtis ir išspausdintumėte išimties tipą (klasės pavadinimą) ir pasirinktinį klaidos pranešimą."
   ]
  },
  {
   "cell_type": "code",
   "execution_count": null,
   "metadata": {},
   "outputs": [],
   "source": [
    "# Jūsų Kodas"
   ]
  }
 ],
 "metadata": {
  "kernelspec": {
   "display_name": "Python 3",
   "language": "python",
   "name": "python3"
  },
  "language_info": {
   "codemirror_mode": {
    "name": "ipython",
    "version": 3
   },
   "file_extension": ".py",
   "mimetype": "text/x-python",
   "name": "python",
   "nbconvert_exporter": "python",
   "pygments_lexer": "ipython3",
   "version": "3.11.7"
  }
 },
 "nbformat": 4,
 "nbformat_minor": 2
}
