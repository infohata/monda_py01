{
 "cells": [
  {
   "cell_type": "markdown",
   "metadata": {},
   "source": [
    "# Dokumentacija ir Anotacijos Python Kalboje\n",
    "\n",
    "Programuojant su Python kalba, pats kodas nėra vienintelis svarbus dalykas; tai taip reikėtų palaikyti kodavimo tvarką ir suprantamumą. Dokumentacija yra svarbi ne tik pačiam programuotojui padėti palaikyti kdodo supratimą, bet ir kitiems programuotojams, kurie galbūt naudos jūsų kodą arba prie jo prisidės  ateityje. Šiame skyriuje aptarsime, kaip tinkamai dokumentuoti Python kodą, taip pat kas yra ir kaip naudoti anotacijas.\n",
    "\n",
    "## Komentarai ir Docstringai\n",
    "\n",
    "### Komentarai\n",
    "\n",
    "Komentarai yra teksto dalys kode, kurios nevykdo jokių veiksmų, tačiau yra skirtos paaiškinimui arba instrukcijoms. Jie prasideda simboliu `#` ir gali būti vienos arba daugelio eilučių.\n"
   ]
  },
  {
   "cell_type": "code",
   "execution_count": null,
   "metadata": {},
   "outputs": [],
   "source": [
    "\n",
    "# Šis yra vienos eilutės komentaras\n",
    "a = 5  # Komentaras gale eilutės\n",
    "\n",
    "'''\n",
    "Tai yra daugelio eilučių komentaras.\n",
    "Jis gali užimti kelias eilutes ir naudojamas paaiškinimui.\n",
    "'''"
   ]
  },
  {
   "cell_type": "markdown",
   "metadata": {},
   "source": [
    "\n",
    "### Docstringai\n",
    "\n",
    "Docstringai yra eilutės, kurios aprašo funkcijas, klases ar modulius. Jie yra naudingi skaitant kodą, bet ir norint automatizuoti dokumentavimą. Daugeliu atvejų, docstringai patenka į dokumentaciją arba naudojami automatiniam testavui.\n",
    "\n"
   ]
  },
  {
   "cell_type": "code",
   "execution_count": null,
   "metadata": {},
   "outputs": [],
   "source": [
    "\n",
    "def suma(a, b):\n",
    "    \"\"\"\n",
    "    Funkcija suma grąžina dviejų skaičių sumą.\n",
    "\n",
    "    :param a: Pirmas skaičius.\n",
    "    :param b: Antras skaičius.\n",
    "    :return: Suma a + b.\n",
    "    \"\"\"\n",
    "    return a + b"
   ]
  },
  {
   "cell_type": "markdown",
   "metadata": {},
   "source": [
    "\n",
    "### Anotacijos\n",
    "\n",
    "Python 3 pristatė anotacijas - būdą nurodyti kintamųjų tipus funkcijose, klasėse ir kitoje programos struktūrose. Šios anotacijos yra neprivalomos ir neturi įtakos kodavimo vykdymui. Jų pagrindinis tikslas yra padėti kitam programuotojui arba automatizuotoms priemonėms suprasti jūsų kodo struktūrą ir tikslus."
   ]
  },
  {
   "cell_type": "code",
   "execution_count": null,
   "metadata": {},
   "outputs": [],
   "source": [
    "\n",
    "def gauti_duomenis(vardas: str, amžius: int) -> str:\n",
    "    \"\"\"\n",
    "    Funkcija, kuri priima vardą (string) ir amžių (integer) ir grąžina sveikinimo žinutę (string).\n",
    "\n",
    "    :param vardas: Vartotojo vardas.\n",
    "    :param amžius: Vartotojo amžius.\n",
    "    :return: Sveikinimo žinutė su vardu ir amžiumi.\n",
    "    \"\"\"\n",
    "    return f\"Sveiki, {vardas}! Jums yra {amžius} metų.\""
   ]
  },
  {
   "cell_type": "markdown",
   "metadata": {},
   "source": [
    "\n",
    "Anotacijos gali būti naudojamos ir klasėms:\n",
    "\n"
   ]
  },
  {
   "cell_type": "code",
   "execution_count": null,
   "metadata": {},
   "outputs": [],
   "source": [
    "\n",
    "class Automobilis:\n",
    "    def __init__(self, marke: str, metai: int):\n",
    "        \"\"\"\n",
    "        Konstruktorius, kuris priima automobilio markę (string) ir gamybos metus (integer).\n",
    "\n",
    "        :param marke: Automobilio markė.\n",
    "        :param metai: Automobilio gamybos metai.\n",
    "        \"\"\"\n",
    "        self.marke = marke\n",
    "        self.metai = metai"
   ]
  },
  {
   "cell_type": "markdown",
   "metadata": {},
   "source": [
    "\n",
    "        \n",
    "#### Anotacijų Tipai\n",
    "Anotacijose galima naudoti įvairius tipus:\n",
    "\n",
    "* Intervalai ir Skaičiai: int, float, complex\n",
    "* Tekstas: str\n",
    "* Sąrašai: List, Tuple\n",
    "* Žodynai: Dict\n",
    "* Klasės: ClassName\n",
    "* Funkcijos: Callable\n",
    "* Kiti: Any, Union, Optional ir kt.\n",
    "\n"
   ]
  },
  {
   "cell_type": "code",
   "execution_count": null,
   "metadata": {},
   "outputs": [],
   "source": [
    "\n",
    "from typing import List, Tuple\n",
    "\n",
    "\n",
    "def sudeti_sarasai(sarasas1: List[int], sarasas2: List[int]) -> List[int]:\n",
    "    \"\"\"\n",
    "    Funkcija, kuri sujungia du skaičių sąrašus į vieną.\n",
    "\n",
    "    :param sarasas1: Pirmas sąrašas.\n",
    "    :param sarasas2: Antras sąrašas.\n",
    "    :return: Sujungtas sąrašas.\n",
    "    \"\"\"\n",
    "    return sarasas1 + sarasas2"
   ]
  },
  {
   "cell_type": "markdown",
   "metadata": {},
   "source": [
    "\n",
    "### Automatinė Dokumentacija\n",
    "Yra įrankių, tokie kaip Sphinx, kurie gali automatiškai sugeneruoti dokumentaciją iš jūsų docstringų. Sphinx naudoja reStructuredText formatą, kuris leidžia kurti profesionalią dokumentaciją su nuorodomis, indeksais ir kitomis funkcijomis.\n"
   ]
  },
  {
   "cell_type": "code",
   "execution_count": null,
   "metadata": {
    "vscode": {
     "languageId": "plaintext"
    }
   },
   "outputs": [],
   "source": [
    "pip install sphinx"
   ]
  },
  {
   "cell_type": "code",
   "execution_count": null,
   "metadata": {
    "vscode": {
     "languageId": "plaintext"
    }
   },
   "outputs": [],
   "source": [
    "sphinx-quickstart"
   ]
  },
  {
   "cell_type": "markdown",
   "metadata": {},
   "source": [
    "\n",
    "Tai greitas Sphinx įrankio paleidimo pavyzdys. Šis įrankis sukurs keletą failų, kuriuose galėsite rašyti savo dokumentaciją.\n",
    "\n",
    "### Išvada\n",
    "Dokumentacija ir anotacijos yra esminiai Python programavimo elementai. Jie ne tik pagerina jūsų kodo skaitomumą ir palaiko tvarką, bet ir yra pagrindiniai įrankiai bendradarbiaujant su kitais programuotojais. Anotacijos yra puikus būdas padėti suprasti kodo struktūrą ir nurodyti kintamųjų tipus, ypač didesni"
   ]
  },
  {
   "cell_type": "markdown",
   "metadata": {},
   "source": []
  }
 ],
 "metadata": {
  "language_info": {
   "name": "python"
  },
  "orig_nbformat": 4
 },
 "nbformat": 4,
 "nbformat_minor": 2
}
