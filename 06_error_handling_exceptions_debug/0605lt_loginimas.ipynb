{
 "cells": [
  {
   "cell_type": "markdown",
   "metadata": {},
   "source": [
    "# Registravimas/Loginimas\n",
    "\n",
    "`Logging` yra informacijos apie įvykius, veiksmus, klaidas ir kt. įrašymo procesas. Ši informacija paprastai įrašoma į atskirą `file` arba rodoma `console`. Registravimas yra labai svarbus norint stebėti programos veikimą, nes jis leidžia sekti, ką programa daro ir kaip ji reaguoja į konkrečias situacijas.\n",
    "\n",
    "Python programavimo kalboje registravimo mechanizmas įgyvendinamas naudojant registravimo modulį. Šis modulis leidžia tinkinti registravimo mechanizmą, kad jis atitiktų jūsų poreikius, pvz., nurodyti registravimo lygį, žurnalo pranešimo formatą, žurnalo paskirties vietą ir kt.\n",
    "\n",
    "**Standartinis registratorius iš loginimo:**"
   ]
  },
  {
   "cell_type": "code",
   "execution_count": null,
   "metadata": {},
   "outputs": [],
   "source": [
    "import logging\n",
    "\n",
    "logging.warning(\"Error!\")"
   ]
  },
  {
   "cell_type": "markdown",
   "metadata": {},
   "source": [
    "# Žinutės - `DEBUG`, `INFO`, `WARNING`, `ERROR`, `CRITICAL`\n",
    "\n",
    "Python registravimo sistemoje, yra kelios, iš anksto aprašytos žinutės:\n",
    "\n",
    "- **DEBUG** - Naudojamas, kai reikia išsamesnės informacijos apie vykdymą. Tai aukščiausias pranešimo lygis.\n",
    "- **INFO** - Naudojama informuoti apie įprastą vykdymą ir kodą, kuris jau buvo sėkmingai įvykdytas.\n",
    "- **WARNING** - Naudojamas, kai programa susiduria su problema, kuri gali turėti neigiamų pasekmių, tačiau vykdymas tęsiamas.\n",
    "- **ERROR** - Naudojama, kai programa susiduria su problema, kuri neleidžia tęsti vykdymo.\n",
    "- **CRITICAL** - Naudojamas, kai programa susiduria su rimta klaida, neleidžiančia jai tęsti vykdymo."
   ]
  },
  {
   "cell_type": "code",
   "execution_count": null,
   "metadata": {},
   "outputs": [],
   "source": [
    "import logging\n",
    "\n",
    "logging.basicConfig(level=logging.DEBUG)\n",
    "\n",
    "logging.debug('Debugging žinutė')\n",
    "logging.info('Informational žinutė')\n",
    "logging.warning('Warning žinutė')\n",
    "logging.error('Error žinutė')\n",
    "logging.critical('Critical žinutė')"
   ]
  },
  {
   "cell_type": "markdown",
   "metadata": {},
   "source": [
    "- Šiame pavyzdyje nustatome registravimo lygį į `DEBUG` ir iškviečiame kelis registravimo metodus, kurie išveda pranešimus į konsolę.\n",
    "- Priklausomai nuo sukonfigūruoto registravimo lygio, pranešimai bus rodomi arba ne:\n",
    "\n",
    "```python\n",
    "DEBUG:root:Debugging žinutė\n",
    "INFO:root:Informational žinutė\n",
    "WARNING:root:Warning žinutė\n",
    "ERROR:root:Error žinutė\n",
    "CRITICAL:root:Critical žinutė\n",
    "```\n"
   ]
  },
  {
   "cell_type": "markdown",
   "metadata": {},
   "source": [
    "# Minimalaus registravimo lygio nustatymas\n",
    "\n",
    "Minimalaus registravimo lygio nustatymas yra svarbus komponentas norint valdyti, kuriuos žurnalus gauti, o kuriuos ignoruoti. Tai naudinga, kai norite matyti tik konkretaus lygio žurnalus, ignoruodami kitus, taip padidindami žurnalų skaitymo efektyvumą.\n",
    "\n",
    "Norėdami nustatyti minimalų registravimo lygį, registratoriaus konfigūracijoje turite nurodyti norimo lygio parametrą, pvz.:\n"
   ]
  },
  {
   "cell_type": "code",
   "execution_count": null,
   "metadata": {},
   "outputs": [],
   "source": [
    "import logging\n",
    "\n",
    "# Minimalus lygis tolygus INFO\n",
    "logging.basicConfig(level=logging.INFO)"
   ]
  },
  {
   "cell_type": "markdown",
   "metadata": {},
   "source": [
    "Kai lygis nustatytas į INFO, bus rodomi visi žurnalai, kurių lygis yra `INFO` arba aukštesnis.\n",
    " \n",
    "Kitų lygių žurnalai, pvz., DEBUG, nebus rodomi, pavyzdžiui:"
   ]
  },
  {
   "cell_type": "code",
   "execution_count": null,
   "metadata": {},
   "outputs": [],
   "source": [
    "# Sukuriamas registratorius\n",
    "logger = logging.getLogger(__name__)\n",
    "\n",
    "# Messages\n",
    "logger.debug(\"Ši žinutė nebus parodyta\")\n",
    "logger.info(\"Ši žinutė bus parodyta\")"
   ]
  },
  {
   "cell_type": "markdown",
   "metadata": {},
   "source": [
    "**Rezultatas:**\n",
    "\n",
    "```python\n",
    "INFO:__main__:Ši žinutė bus parodyta\n",
    "```"
   ]
  },
  {
   "cell_type": "markdown",
   "metadata": {},
   "source": [
    "Norėdami nepaisyti visų pranešimų, išskyrus svarbius, tiesiog nustatykite minimalų registravimo lygį į CRITICAL:"
   ]
  },
  {
   "cell_type": "code",
   "execution_count": null,
   "metadata": {},
   "outputs": [],
   "source": [
    "import logging\n",
    "\n",
    "# Minimalus lygis nustatytas į CRITICAL\n",
    "logging.basicConfig(level=logging.CRITICAL)\n",
    "\n",
    "# Sukuriamas logeris\n",
    "logger = logging.getLogger(__name__)\n",
    "\n",
    "# Žinutės\n",
    "logger.debug(\"Ši žinutė nebus parodyta\")\n",
    "logger.info(\"Ši žinutė nebus parodyta\")\n",
    "logger.warning(\"Ši žinutė nebus parodyta\")\n",
    "logger.error(\"Ši žinutė nebus parodyta\")\n",
    "logger.critical(\"Ši žinutė bus parodyta\")"
   ]
  },
  {
   "cell_type": "markdown",
   "metadata": {},
   "source": [
    "# Registravimas į failą\n",
    "\n",
    "Prisijungimas prie failo yra įprastas būdas sekti, kas vyksta programoje, ypač kai ji veikia ilgą laiką arba pasiekiama iš kelių įrenginių. Šio tipo registravimas leidžia saugoti informaciją apie programos veikimą ir vėliau ją analizuoti.\n",
    "\n",
    "**Pavyzdžiui:**"
   ]
  },
  {
   "cell_type": "code",
   "execution_count": null,
   "metadata": {},
   "outputs": [],
   "source": [
    "import logging\n",
    "\n",
    "logging.basicConfig(filename='logger.log', encoding=\"UTF-8\", level=logging.INFO)\n",
    "logging.info(\"Programa veikia\")"
   ]
  },
  {
   "cell_type": "markdown",
   "metadata": {},
   "source": [
    "Kiekvienas pranešimas bus pridėtas prie `logger.log` failo, todėl kai paleisite programą kelis kartus, galėsite matyti visą programos veikimą:"
   ]
  },
  {
   "cell_type": "markdown",
   "metadata": {},
   "source": [
    "# Registravimo žinutės formatas\n",
    "\n",
    "Žurnalo pranešimo formatas yra labai svarbus, nes jis nurodo, kaip informacija bus rodoma žurnalo faile. Pagrindiniai žurnalo pranešimų formatavimo elementai yra: laiko žyma, žurnalo lygis, pranešimas ir papildoma informacija.\n",
    "\n",
    "Formatavimo simboliai::\n",
    "\n",
    "- **asctime** - Laiko žyma, nurodanti, kada pranešimas buvo užregistruotas.\n",
    "- **name** - Registruotijo vardas.\n",
    "- **levelname** - Registravimo lygis.\n",
    "- **message** - Registruojama žinutė."
   ]
  },
  {
   "cell_type": "code",
   "execution_count": null,
   "metadata": {},
   "outputs": [],
   "source": [
    "import logging\n",
    "\n",
    "logging.basicConfig(\n",
    "    filename='logger.log', \n",
    "    encoding='UTF-8', \n",
    "    level=logging.INFO,\n",
    "    format='%(asctime)s - %(name)s - %(levelname)s - %(message)s'\n",
    ")\n",
    "\n",
    "logging.info('Programa veikia')"
   ]
  },
  {
   "cell_type": "markdown",
   "metadata": {},
   "source": [
    "Daugiau formatavimo parametrų galite pasižiūrėti čia https://docs.python.org/3/library/logging.html#logrecord-attributes."
   ]
  },
  {
   "cell_type": "markdown",
   "metadata": {},
   "source": [
    "# Registravimas su Objektais\n",
    "\n",
    "Log messages can include objects, not just plain text. \n",
    "\n",
    "**For example:**"
   ]
  },
  {
   "cell_type": "code",
   "execution_count": null,
   "metadata": {},
   "outputs": [],
   "source": [
    "import logging\n",
    "\n",
    "logging.basicConfig(filename='logger.log', encoding=\"UTF-8\",\n",
    "                   level=logging.INFO, format='%(asctime)s:%(levelname)s:%(message)s')\n",
    "\n",
    "class Person:\n",
    "    def __init__(self, first_name, last_name):\n",
    "        self.first_name = first_name\n",
    "        self.last_name = last_name\n",
    "        logging.info(f\"Created an employee: {self.first_name} {self.last_name}\")\n",
    "\n",
    "john = Person(\"Jonas\", \"Jonaitis\")\n",
    "peter = Person(\"Petras\", \"Petraitis\")"
   ]
  },
  {
   "cell_type": "markdown",
   "metadata": {},
   "source": [
    "Result:\n",
    "\n",
    "```python\n",
    "2023-11-14 18:34:23,184:INFO:Created an employee: Jonas Jonaitis\n",
    "2023-11-14 18:34:23,185:INFO:Created an employee: Petras Petraitis\n",
    "```"
   ]
  },
  {
   "cell_type": "markdown",
   "metadata": {},
   "source": [
    "# Savo registratoriaus kūrimas\n",
    "\n",
    "Vienas iš standartinio registratoriaus trūkumų yra tai, kad jis yra visuotinis ir naudojamas visoje kodų bazėje. Tai gali būti problematiška vykdant didesnius projektus, kur reikia tiksliai kontroliuoti, kur turi būti registruojamas kiekvienas pranešimas.\n",
    "\n",
    "Vienas iš būdų išspręsti šią problemą yra sukurti savo žurnalą. Tai leidžia skirtingose programos dalyse naudoti skirtingus registratorius, kurių kiekviena turi savo žurnalo lygius ir nustatymus.\n",
    "**For example:**"
   ]
  },
  {
   "cell_type": "code",
   "execution_count": null,
   "metadata": {},
   "outputs": [],
   "source": [
    "import logging\n",
    "\n",
    "def create_logger(logger_name, log_file):\n",
    "    # Sukuriamas registratorius\n",
    "    logger = logging.getLogger(logger_name)\n",
    "    logger.setLevel(logging.DEBUG)\n",
    "    \n",
    "    # Sukuriamas programos žinučių registravimas į failą\n",
    "    file_handler = logging.FileHandler(log_file)\n",
    "    file_handler.setLevel(logging.DEBUG)\n",
    "\n",
    "    # Sukuriams žinučių registravimo formatas\n",
    "    formatter = logging.Formatter('%(asctime)s - %(name)s - %(levelname)s - %(message)s')\n",
    "    file_handler.setFormatter(formatter)\n",
    "\n",
    "    # Priskiriamas handler prie registratoriaus\n",
    "    logger.addHandler(file_handler)\n",
    "\n",
    "    return logger\n",
    "\n",
    "# Naudojimo pavyzdys\n",
    "my_logger = create_logger('my_logger', 'new_logger.log')\n",
    "my_logger.debug('Debug žinutė')\n",
    "my_logger.info('Info žinutė')\n",
    "my_logger.warning('Warning žinutė')"
   ]
  },
  {
   "cell_type": "markdown",
   "metadata": {},
   "source": [
    "Najai sukurto `new_logger.log` failo rezultatas:\n",
    "\n",
    "```python\n",
    "2023-11-14 20:42:10,941 - my_logger - DEBUG - Debug žinutė\n",
    "2023-11-14 20:42:10,942 - my_logger - INFO - Info žinutė\n",
    "2023-11-14 20:42:10,942 - my_logger - WARNING - Warning žinutė\n",
    "```\n",
    "\n",
    "- Šiame pavyzdyje sukūrėme pasirinktinį registratorių ir naudojome jį pranešimams įrašyti į konkretų failą nustatytu registratoriaus formatu."
   ]
  },
  {
   "cell_type": "markdown",
   "metadata": {},
   "source": [
    "# Registravimas į failą ir terminalą\n",
    "\n",
    "Registratorius gali nukreipti savo išvestį į skirtingus kanalus, tokius kaip failas ir terminalas. Tai naudinga, kai norite matyti pranešimus tiesiai terminale ir išsaugoti juos faile ilgalaikiam saugojimui.\n",
    "\n",
    "Pavyzdžiui:"
   ]
  },
  {
   "cell_type": "code",
   "execution_count": null,
   "metadata": {},
   "outputs": [],
   "source": [
    "import logging\n",
    "\n",
    "def create_logger(logger_name, log_file):\n",
    "    # Sukuriamas registratorius\n",
    "    logger = logging.getLogger(logger_name)\n",
    "    logger.setLevel(logging.DEBUG)\n",
    "    \n",
    "    # Sukuriamas registratoriaus handler kad išsaugoti žinutę faile\n",
    "    file_handler = logging.FileHandler(log_file)\n",
    "    file_handler.setLevel(logging.DEBUG)\n",
    "\n",
    "    # Sukuriamas žinutės formatas\n",
    "    formatter = logging.Formatter('%(asctime)s - %(name)s - %(levelname)s - %(message)s')\n",
    "    file_handler.setFormatter(formatter)\n",
    "\n",
    "    # Sukuriamas handleris kad žinutė būtų išspausdinama į terminalą\n",
    "    console_handler = logging.StreamHandler()\n",
    "    console_handler.setLevel(logging.DEBUG)\n",
    "    console_handler.setFormatter(formatter)\n",
    "\n",
    "    # Handleriai pridedami prie registratoriaus\n",
    "    logger.addHandler(file_handler)\n",
    "    logger.addHandler(console_handler)\n",
    "\n",
    "    return logger\n",
    "\n",
    "# Naudojimo pavyzdys\n",
    "my_logger = create_logger('my_logger', 'new_logger.log')\n",
    "my_logger.debug('Debug message')\n",
    "my_logger.info('Info message')\n",
    "my_logger.warning('Warning message')"
   ]
  },
  {
   "cell_type": "markdown",
   "metadata": {},
   "source": [
    "```python\n",
    "#Rezultatas terminale:\n",
    "\n",
    "2023-11-14 20:46:19,370 - my_logger - DEBUG - Debug message\n",
    "2023-11-14 20:46:19,371 - my_logger - INFO - Info message\n",
    "2023-11-14 20:46:19,371 - my_logger - WARNING - Warning message\n",
    "\n",
    "\n",
    "#Rezultatas 'new_logger.log' faile:\n",
    "\n",
    "2023-11-14 20:46:19,370 - my_logger - DEBUG - Debug message\n",
    "2023-11-14 20:46:19,371 - my_logger - INFO - Info message\n",
    "2023-11-14 20:46:19,371 - my_logger - WARNING - Warning message\n",
    "```\n",
    "\n",
    "- Šiame pavyzdyje sukūrėme pasirinktinį registratorių, kuris registruoja pranešimus ir į failą, ir į terminalą, leidžiantį stebėti pranešimus tiesiai terminale ir saugoti juos vėlesnei analizei."
   ]
  },
  {
   "cell_type": "markdown",
   "metadata": {},
   "source": [
    "# `Pirma Užduotis`\n",
    "\n",
    "### Patobulinkite savo šaldytuvo programą:\n",
    "\n",
    "1. Užfiksuokite visas galimas vartotojo sąsajos klaidas, ypač įvedant kiekius.\n",
    "1. Įdiekite šaldytuvo saugojimo klaidų tvarkymą į failą / ištraukimą iš failo naudodami try-except.\n",
    "1. Sukurkite registratorių, kuris faile kaupia informaciją apie įdėtus ir išimtus produktus su kiekiais, kartu su veiksmo data ir laiku.\n",
    "\n",
    "# `Antroji užduotis`\n",
    "\n",
    "### Patobulinkite savo biudžeto programą:\n",
    "\n",
    "1. Sugauti klaidas, kai vartotojas, kurdamas pajamų ar išlaidų įrašus, įveda neteisingus parametrus.\n",
    "1. Sukurkite registratorių, kuris registruoja, kai vartotojas bando išleisti daugiau pinigų nei turi."
   ]
  }
 ],
 "metadata": {
  "kernelspec": {
   "display_name": "Python 3",
   "language": "python",
   "name": "python3"
  },
  "language_info": {
   "codemirror_mode": {
    "name": "ipython",
    "version": 3
   },
   "file_extension": ".py",
   "mimetype": "text/x-python",
   "name": "python",
   "nbconvert_exporter": "python",
   "pygments_lexer": "ipython3",
   "version": "3.10.6"
  }
 },
 "nbformat": 4,
 "nbformat_minor": 2
}
