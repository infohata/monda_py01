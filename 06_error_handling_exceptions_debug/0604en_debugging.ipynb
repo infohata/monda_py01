{
 "cells": [
  {
   "cell_type": "markdown",
   "metadata": {},
   "source": [
    "# Debugging\n",
    "\n",
    "Debugging is an essential part of programming skills because it helps programmers find and fix errors in their code.\n",
    "\n",
    "TODO: add material for `pdb`"
   ]
  },
  {
   "cell_type": "markdown",
   "metadata": {},
   "source": [
    "## VS Code Debugging Tools\n",
    "\n",
    "VS Code offers various tools to assist programmers in the debugging process, such as \"`Run and Debug`,\" which can be found in the left menu of VS Code.\n",
    "\n",
    "![Alt text](images/01.jpg)"
   ]
  },
  {
   "cell_type": "markdown",
   "metadata": {},
   "source": [
    "### Run and Debug Tool\n",
    "\n",
    "Debugging involves the use of `breakpoints`, which allow you to pause the execution of your program at a specific location in your code to inspect variable values, check the program's state, or evaluate other code elements.\n",
    "\n",
    "![Alt text](images/02.jpg)"
   ]
  },
  {
   "cell_type": "markdown",
   "metadata": {},
   "source": [
    "### Breakpoint\n",
    "\n",
    "To create a `breakpoint`, simply select the line where you want to pause the program's execution and enable the `breakpoint`. \n",
    "\n",
    "Press 'Run and Debug' and choose the Python file.\n",
    "\n",
    "![Alt text](images/03.jpg)"
   ]
  },
  {
   "cell_type": "markdown",
   "metadata": {},
   "source": [
    "### Running Run and Debug\n",
    "\n",
    "When the program is running, it stops at the `breakpoint` line, allowing you to examine the code's state and variable values. You can then step through the program one line at a time, observing how it behaves.\n",
    "\n",
    "![Alt text](images/04.jpg)"
   ]
  },
  {
   "cell_type": "markdown",
   "metadata": {},
   "source": [
    "## Using '`print`' for Debugging (Caveman Debug)\n",
    "\n",
    "- Using '`print`' for debugging is a simple yet effective way to find errors in your code. \n",
    "- It's often called \"`caveman debugging`\" because it's one of the oldest and simplest methods for locating errors. \n",
    "- Debugging is done simply by inserting '`print()`' statements into your code to monitor values at specific locations. \n",
    "\n",
    "**For example:**"
   ]
  },
  {
   "cell_type": "code",
   "execution_count": null,
   "metadata": {},
   "outputs": [],
   "source": [
    "def sum(a, b):\n",
    "    print(\"a:\", a) # prints the value passed as argument 'a'\n",
    "    print(\"b:\", b) # prints the value passed as argument 'b'\n",
    "    return a + b\n",
    "\n",
    "result = sum(3, 5)\n",
    "print(\"result:\", result) # prints the sum's value"
   ]
  },
  {
   "cell_type": "markdown",
   "metadata": {},
   "source": [
    "# `Assignment: Debugging Exercise`\n",
    "\n",
    "**Objective:**\n",
    "\n",
    "Practice debugging skills using a while loop.\n",
    "\n",
    "**Instructions:**\n",
    "\n",
    "- Write a Python program that simulates a simple countdown timer using a while loop. \n",
    "- The program should count down from a specified number (e.g., 10) to 1 and print the countdown values.\n",
    "- However, the program has a few intentional bugs that need to be fixed. Your task is to debug the code to make it work correctly.\n",
    "\n",
    "**Here's the buggy code:**"
   ]
  },
  {
   "cell_type": "code",
   "execution_count": null,
   "metadata": {},
   "outputs": [],
   "source": [
    "# Intentionally Buggy Countdown Timer\n",
    "\n",
    "countdown = 10\n",
    "\n",
    "while countdown >= 0:\n",
    "    print(countdown)\n",
    "    countdown += 1\n",
    "\n",
    "print(\"Liftoff!\")"
   ]
  },
  {
   "cell_type": "markdown",
   "metadata": {},
   "source": [
    "**Tasks:**\n",
    "\n",
    "1. Debug the code to ensure that it counts down from `10` to `1`, `printing` each number along the way.\n",
    "\n",
    "1. Ensure that it prints \"`Blast Off!`\" after the countdown.\n",
    "\n",
    "1. Fix the intentional bugs in the code.\n",
    "\n",
    "**Submission:**\n",
    "\n",
    "Submit the corrected Python code with comments explaining the changes you made to fix the bugs."
   ]
  },
  {
   "cell_type": "code",
   "execution_count": null,
   "metadata": {},
   "outputs": [],
   "source": [
    "# Your code here"
   ]
  }
 ],
 "metadata": {
  "kernelspec": {
   "display_name": "Python 3",
   "language": "python",
   "name": "python3"
  },
  "language_info": {
   "codemirror_mode": {
    "name": "ipython",
    "version": 3
   },
   "file_extension": ".py",
   "mimetype": "text/x-python",
   "name": "python",
   "nbconvert_exporter": "python",
   "pygments_lexer": "ipython3",
   "version": "3.10.6"
  }
 },
 "nbformat": 4,
 "nbformat_minor": 2
}
