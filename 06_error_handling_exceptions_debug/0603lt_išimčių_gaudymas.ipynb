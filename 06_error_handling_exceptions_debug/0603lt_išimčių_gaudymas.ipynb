{
 "cells": [
  {
   "cell_type": "markdown",
   "metadata": {},
   "source": [
    "# Išimčių Gaudymas\n",
    "\n",
    "## Išimčių gaudymas su `raise`\n",
    "\n",
    "`Exception handling` yra labai svarbus progeramavimo konceptas kuris leidžia programuotojams sužinoti kad programoje atsirado klaida ir ji turi būti uždaryta. \n",
    "\n",
    "Python turi įvairių iššimčių kurios leidžia programuotojams pagauti ir susitvarkyti su klaidomis vėliau.\n",
    "`raise` teiginys leidžia pagauti klaidą kai programa yra leidžiama. It is a simple command that raises an error with a specified message. \n",
    "\n",
    "Pavyzdžiui:"
   ]
  },
  {
   "cell_type": "code",
   "execution_count": null,
   "metadata": {},
   "outputs": [],
   "source": [
    "raise ValueError(\"Neteisingas argumentas\")  # raise ValueError(\"Neteisingas argumentas\")"
   ]
  },
  {
   "cell_type": "markdown",
   "metadata": {},
   "source": [
    "`raise` komanda gali būti naudojama bet kur, kur programoje reikia iššaukti klaidą. Galima naudoti pritaikytas klaidų klases. \n",
    "\n",
    "Pavyzdžiui:"
   ]
  },
  {
   "cell_type": "code",
   "execution_count": null,
   "metadata": {},
   "outputs": [],
   "source": [
    "class MyError(Exception):\n",
    "    pass\n",
    "\n",
    "raise MyError(\"Nepavyko atidaryti failo\")  # __main__.MyError: Nepavyko atidaryti failo\n"
   ]
  },
  {
   "cell_type": "markdown",
   "metadata": {},
   "source": [
    "Dažniausiai, klaidos yra išaukiamos kai fukcija grįžta per  `return` komandą su žinute kuri informuoja apie klaidą. \n",
    "\n",
    "Pavyzdžiui:"
   ]
  },
  {
   "cell_type": "code",
   "execution_count": 1,
   "metadata": {},
   "outputs": [
    {
     "name": "stdout",
     "output_type": "stream",
     "text": [
      "Dalyba iš nulio negalima\n"
     ]
    }
   ],
   "source": [
    "def division(x, y):\n",
    "    if y == 0:\n",
    "        raise ZeroDivisionError(\"Dalyba iš nulio negalima\")\n",
    "    return x / y\n",
    "\n",
    "try:\n",
    "    result = division(10, 0)\n",
    "except ZeroDivisionError as e:\n",
    "    print(e)  # Dalyba iš nulio negalima\n",
    "else:\n",
    "    print(result)"
   ]
  },
  {
   "cell_type": "markdown",
   "metadata": {},
   "source": [
    "# `Greita Užduotis 1: Raising Exceptions klaidų išaukimas su raise`\n",
    "\n",
    "1. Sukurkite Python programą, kuri apibrėžia funkciją.\n",
    "1. Funkcijoje patikrinkite, ar nurodytas skaičius yra neigiamas.\n",
    "– Jei taip, iškelkite tinkintą išimtį, pavadintą `NegativeNumberError` su pranešimu „Skaičius negali būti neigiamas“.\n",
    "- Naudokite blokus `try` ir `except`, kad iškviestumėte funkciją ir tvarkytumėte tinkintą išimtį."
   ]
  },
  {
   "cell_type": "code",
   "execution_count": null,
   "metadata": {},
   "outputs": [],
   "source": [
    "# Jūsų kodas"
   ]
  },
  {
   "cell_type": "markdown",
   "metadata": {},
   "source": [
    "## Klaidų iššaukimas su `raise Exception`\n",
    "`raise` komanda gali būtu naudojame su bet kokia klaidų klase, kaip pavyzdžiui `Exception`. \n",
    "\n",
    "For example:"
   ]
  },
  {
   "cell_type": "code",
   "execution_count": null,
   "metadata": {},
   "outputs": [],
   "source": [
    "raise Exception('Klaidos Žinutė')  # Exception: Klaidos Žinutė"
   ]
  },
  {
   "cell_type": "markdown",
   "metadata": {},
   "source": [
    "Prieš tai buvęs `ZeroDivisionError` pavyzdys veikia su `Exception` :"
   ]
  },
  {
   "cell_type": "code",
   "execution_count": null,
   "metadata": {},
   "outputs": [],
   "source": [
    "def division(x, y):\n",
    "    if y == 0:\n",
    "        raise Exception(\"Dalyba iš nulio negalima\")\n",
    "    return x / y\n",
    "\n",
    "try:\n",
    "    result = division(10, 0)\n",
    "except Exception as e:\n",
    "    print(e)  # Dalyba iš nulio negalima\n",
    "else:\n",
    "    print(result)\n"
   ]
  },
  {
   "cell_type": "markdown",
   "metadata": {},
   "source": [
    "Rekomenduojama naudoti specializuotas klaidų klases, nes jos gali pagerinti klaidų tvarkymą ir aiškumą, nes skirtingi klaidų tipai gali būti tvarkomi skirtingai.\n",
    "- Tačiau jei nėra aiškių naudojimo atvejų, geriau naudoti `Exception` klasę. Tai daryti saugu, bet nebūtinai efektyvu ar patogu, jei yra daug klaidų, kurias reikėtų tvarkyti kitaip."
   ]
  },
  {
   "cell_type": "markdown",
   "metadata": {},
   "source": [
    "# `Greita Užduotis 2: Klaidų išaukimas su raise Exception`\n",
    "\n",
    "Task:\n",
    "\n",
    "1. Create a Python program that defines a function to perform division. \n",
    "- If the denominator is zero, raise a generic `Exception` with the message \"Division by zero is not allowed.\" \n",
    "- Use a `try` and `except` block to call the function and handle the exception."
   ]
  },
  {
   "cell_type": "code",
   "execution_count": null,
   "metadata": {},
   "outputs": [],
   "source": [
    "# Your code is here"
   ]
  },
  {
   "cell_type": "markdown",
   "metadata": {},
   "source": [
    "## Raising Exceptions with `raise ValueError`"
   ]
  },
  {
   "cell_type": "markdown",
   "metadata": {},
   "source": [
    "The `raise ValueError` command is useful when you need to inform about an invalid argument or value. \n",
    "\n",
    "For example:"
   ]
  },
  {
   "cell_type": "code",
   "execution_count": null,
   "metadata": {},
   "outputs": [],
   "source": [
    "def cube_number(number):\n",
    "    if not isinstance(number, int):\n",
    "        raise ValueError(\"The function only works with integers\")\n",
    "    return number ** 3\n",
    "\n",
    "try:\n",
    "    cube = cube_number(1.5)\n",
    "except ValueError as e:\n",
    "    print(e)  # The function only works with integers\n",
    "else:\n",
    "    print(cube)"
   ]
  },
  {
   "cell_type": "markdown",
   "metadata": {},
   "source": [
    "In this context, we discussed exception handling, raising exceptions with `raise`, and the appropriate use of `ValueError` for notifying about invalid arguments or values."
   ]
  },
  {
   "cell_type": "markdown",
   "metadata": {},
   "source": [
    "# `Greita užduotis 3: Išimčių išaukimas su ValueError`\n",
    "\n",
    "Užduotis:\n",
    "\n",
    "1. Write a Python program that defines a function to calculate the square of a number. \n",
    "- If the input is not a number (e.g., a string or another type), raise a `ValueError` with the message \"Input must be a number.\" \n",
    "- Use a `try` and `except` block to call the function and handle the `ValueError`.\n",
    "\n",
    "1. Parašykite Python programą, kuri apibrėžia funkciją skaičiaus kvadratui apskaičiuoti.\n",
    "– Jei įvestis nėra skaičius (pvz., eilutė ar kito tipo), iškelkite `ValueError` su pranešimu „Įvestis turi būti skaičius“.\n",
    "- Naudokite `try` ir `except` blokus, kad iškviestumėte funkciją ir sutvarkytumėte `ValueError`."
   ]
  },
  {
   "cell_type": "code",
   "execution_count": null,
   "metadata": {},
   "outputs": [],
   "source": [
    "# Jūsų kodas"
   ]
  }
 ],
 "metadata": {
  "kernelspec": {
   "display_name": "Python 3",
   "language": "python",
   "name": "python3"
  },
  "language_info": {
   "codemirror_mode": {
    "name": "ipython",
    "version": 3
   },
   "file_extension": ".py",
   "mimetype": "text/x-python",
   "name": "python",
   "nbconvert_exporter": "python",
   "pygments_lexer": "ipython3",
   "version": "3.11.7"
  }
 },
 "nbformat": 4,
 "nbformat_minor": 2
}
