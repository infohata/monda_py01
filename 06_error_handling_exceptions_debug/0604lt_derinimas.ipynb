{
 "cells": [
  {
   "cell_type": "markdown",
   "metadata": {},
   "source": [
    "# Derinimas(debuging)\n",
    "\n",
    "Derinimas yra vienas pagrindinių programavimo įgūdžių, nes jis padeda sudrasti ir ištaisyti klaidas jų kode. "
   ]
  },
  {
   "cell_type": "markdown",
   "metadata": {},
   "source": [
    "## VS Code Derinimo įrankis\n",
    "\n",
    "VS Code siūlo įvairius įrankius programuotojams, kurie padeda derinimo procese, tokius kaip \"`Run and Debug`,\" kurį galima rasti kairėje VS Code panelėje.\n",
    "\n",
    "![Alt text](images/01.jpg)"
   ]
  },
  {
   "cell_type": "markdown",
   "metadata": {},
   "source": [
    "### Derinimo įrankio paleidimas\n",
    "\n",
    "Derinimas naudoja taip vadinamus `breakpoints` (lūžio taškas), kurie leidžia pristabdyti programos veikimą tam tikroje vietoja kad būtų galima patikrinti kintamuosius, patikrinti programos būklę, ar įvertinti kodo elementus.\n",
    "\n",
    "![Alt text](images/02.jpg)"
   ]
  },
  {
   "cell_type": "markdown",
   "metadata": {},
   "source": [
    "### Lūžio Taškai (Breakpoint)\n",
    "\n",
    "kad sukurti `breakpoint`, papraščiausiai pasirinkite kur norite sustabdyti programos veikimą, ir įgalinkite `breakpoint`. \n",
    "\n",
    "Spauskite 'Run and Debug' ir pasirinkite Python failą.\n",
    "\n",
    "![Alt text](images/03.jpg)"
   ]
  },
  {
   "cell_type": "markdown",
   "metadata": {},
   "source": [
    "### Programos paleidimas ir derinimas\n",
    "\n",
    "Kai programa yra paleista, jinai sustoja ties `breakpoint` linija, tai leidžia išanalizuoti kodą, ir kintamojo vertes. tada galima stebėti kodą eilutė po eilutės, ir žiūrėti kaip kodas elgiasi.\n",
    "\n",
    "![Alt text](images/04.jpg)"
   ]
  },
  {
   "cell_type": "markdown",
   "metadata": {},
   "source": [
    "## `print` naudojimas derinimui (Caveman Debug)\n",
    "\n",
    "- naudojant'`print`' derinimui, suteikia galimybe efektingai ir lengvai rasti klaidas kode, ir jas pašalinti. \n",
    "- Tai dažnai vadinama \"`caveman debugging`\" (urvinio derinimu) nes tai vienas seniausiu ir papraščiausių metodų surasti klaidas. \n",
    "- Derinant papraščiausiai naudojami '`print()`' teiginiai kode, kurie leidžia stebėti tam tikrus kintamuosius. \n",
    "\n",
    "**Pavyzdžiui:**"
   ]
  },
  {
   "cell_type": "code",
   "execution_count": null,
   "metadata": {},
   "outputs": [],
   "source": [
    "def sum(a, b):\n",
    "    print(\"a:\", a) # išspausdina argumento vertę  'a'\n",
    "    print(\"b:\", b) # išspausdina argumento vertę  'b'\n",
    "    return a + b\n",
    "\n",
    "result = sum(3, 5)\n",
    "print(\"result:\", result) # išspausdiną sumą"
   ]
  },
  {
   "cell_type": "markdown",
   "metadata": {},
   "source": [
    "# `Užduotis: Debugging Pratimas`\n",
    "\n",
    "**Tikslas:**\n",
    "\n",
    "Praktikuokite derinimo įgūdžius naudodami `wile`ciklą.\n",
    "\n",
    "**Instrukcijos:**\n",
    "\n",
    "- Parašykite „Python“ programą, kuri imituoja paprastą atgalinės atskaitos laikmatį, naudodama ciklą.\n",
    "- Programa turi skaičiuoti atgal nuo nurodyto skaičiaus (pvz., 10) iki 1 ir išspausdinti atgalinės atskaitos vertes.\n",
    "– Tačiau programoje yra keletas tyčinių klaidų, kurias reikia pataisyti. Jūsų užduotis yra derinti kodą, kad jis tinkamai veiktų.\n",
    "\n",
    "**Štai kodas:**"
   ]
  },
  {
   "cell_type": "code",
   "execution_count": null,
   "metadata": {},
   "outputs": [],
   "source": [
    "# Specialiai klaidingas laikmatis\n",
    "\n",
    "countdown = 10\n",
    "\n",
    "while countdown >= 0:\n",
    "    print(countdown)\n",
    "    countdown += 1\n",
    "\n",
    "print(\"Liftoff!\")"
   ]
  },
  {
   "cell_type": "markdown",
   "metadata": {},
   "source": [
    "\n",
    "\n",
    "**Užduotys:**\n",
    "\n",
    "1. Suderinkite kodą, kad įsitikintumėte, jog jis skaičiuoja nuo „10“ iki „1“, „atspausdindami“ kiekvieną skaičių.\n",
    "\n",
    "1. Įsitikinkite, kad pasibaigus atgaliniam skaičiavimui jis išspausdina „Pakilimas!“.\n",
    "\n",
    "1. Ištaisykite tyčines kodo klaidas.\n",
    "\n",
    "**Pateikimas:**\n",
    "\n",
    "Pateikite pataisytą Python kodą su komentarais, paaiškinančiais pakeitimus, kuriuos atlikote, kad ištaisytumėte klaidas."
   ]
  },
  {
   "cell_type": "code",
   "execution_count": null,
   "metadata": {},
   "outputs": [],
   "source": [
    "# Jūsų kodas"
   ]
  }
 ],
 "metadata": {
  "kernelspec": {
   "display_name": "Python 3",
   "language": "python",
   "name": "python3"
  },
  "language_info": {
   "codemirror_mode": {
    "name": "ipython",
    "version": 3
   },
   "file_extension": ".py",
   "mimetype": "text/x-python",
   "name": "python",
   "nbconvert_exporter": "python",
   "pygments_lexer": "ipython3",
   "version": "3.10.6"
  }
 },
 "nbformat": 4,
 "nbformat_minor": 2
}
