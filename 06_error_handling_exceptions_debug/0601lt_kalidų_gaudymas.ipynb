{
 "cells": [
  {
   "cell_type": "markdown",
   "metadata": {},
   "source": [
    "# Klaidų Gaudymas\n",
    "\n",
    "`Klaidų gaudymas` yra būtinas atliekant bet kokį programavimo darbą, kad būtų išvengta netikėtų programos vykdymo sutrikimų. „Python“ klaidų tvarkymas įgyvendinamas naudojant `try and except` blokus.\n",
    "\n",
    "## `try` and `except` Blockai\n",
    "\n",
    ">`try` bloke, parašoma salyga kuri galėtų sukelti klaidą. \n",
    ">>`except` bloke, nurodoma kas bus vykdoma jeigy `try` blokas parodys klaidą. \n",
    "\n",
    "**Pavyzdžiui:**"
   ]
  },
  {
   "cell_type": "code",
   "execution_count": null,
   "metadata": {},
   "outputs": [],
   "source": [
    "try:\n",
    "    a = 10 / 0\n",
    "except:\n",
    "    print(\"Klaida!\")  # Klaida!"
   ]
  },
  {
   "cell_type": "markdown",
   "metadata": {},
   "source": [
    ">Galima patikslinti kokia klaida bus `except` bloke (e.g., **TypeError**, **ValueError**, **ZeroDivisionError**, etc.), \n",
    ">>Šiuo atveju kodas vykdys `except` bloką tiktais jeigu `try` bloke bus minėta klaida. \n",
    "\n",
    "**Pavyzdžiui:**"
   ]
  },
  {
   "cell_type": "code",
   "execution_count": null,
   "metadata": {},
   "outputs": [],
   "source": [
    "try:\n",
    "    x = 5 / 0\n",
    "except ZeroDivisionError:\n",
    "    print(\"Negalima dalinti iš nulio!\")  # Cannot divide by zero!"
   ]
  },
  {
   "cell_type": "markdown",
   "metadata": {},
   "source": [
    "## Klaidos ignoravimas su `except: pass`\n",
    "\n",
    ">Kai kada nereikia nieko daryti jeigu atsitinka tam tikra klaida. \n",
    ">>Tokiu atveju, galima naudoti `except: pass` konstruktorių, kuris praleidžia klaidos apdorokimą ir tęsia programos vykdymą. \n",
    "\n",
    "**Pavyzdžiui:**"
   ]
  },
  {
   "cell_type": "code",
   "execution_count": null,
   "metadata": {},
   "outputs": [],
   "source": [
    "try:\n",
    "    x = 5 / 0\n",
    "except ZeroDivisionError:\n",
    "    pass"
   ]
  },
  {
   "cell_type": "markdown",
   "metadata": {},
   "source": [
    ">Šiame pavyzdyje `try` bloke yra dalyba iš nulio, kuri sukelia klaidą. \n",
    ">>Visdėlto, `except` blokas yra tuščias ir turi tiktais `pass`. Tai reiškia kad programa ignoruoja klaidų gaudimą ir tęsia vykdymą"
   ]
  },
  {
   "cell_type": "markdown",
   "metadata": {},
   "source": [
    "## `else` ir `finally` Po `try` ir `except`"
   ]
  },
  {
   "cell_type": "markdown",
   "metadata": {},
   "source": [
    "`else` blokas leidžia nurodyti kodą kuris bus vykdomas tik tada kai `try` blokas yra sėkmingai užbaigtas, arba kai nebuvo surasta klaidų. `else` blokas turi eiti po visų `except` blokų. \n",
    "\n",
    "**Pavyzdžiui:**"
   ]
  },
  {
   "cell_type": "code",
   "execution_count": null,
   "metadata": {},
   "outputs": [],
   "source": [
    "try:\n",
    "    result = 10 / 2\n",
    "except ZeroDivisionError:\n",
    "    print(\"Negalima dalinti iš nulio!\")\n",
    "else:\n",
    "    print(\"Rezultatas yra\", result)  # Rezultatas yra 5.0"
   ]
  },
  {
   "cell_type": "markdown",
   "metadata": {},
   "source": [
    "`finally` blokas naudojamas kodui kuris bus vykdomas nepaisant to ar jis turi klaidų ar ne. Tai gali būti naudinga tam tikriems veiksmams, tokiems kaip laikinų failų valymas, atsijungimas nuo duomenų bazės, ir t.t."
   ]
  },
  {
   "cell_type": "code",
   "execution_count": null,
   "metadata": {},
   "outputs": [],
   "source": [
    "try:\n",
    "    result = 10 / 0\n",
    "except ZeroDivisionError:\n",
    "    print(\"Negalima dalinti iš nulio!\")\n",
    "finally:\n",
    "    print(\"Programa baigė vykdymą\")"
   ]
  },
  {
   "cell_type": "markdown",
   "metadata": {},
   "source": [
    "## Tvarkymasis su daugybinėmis klaidomis Viename `try` Bloke su Keliais `except` Blokais\n",
    "\n",
    "Tvarkymasis su keliomis klaidomis viename `try` bloke, čia galima naudoti ne vieną  `except` bloką su keliais klaidų tipais. \n",
    "\n",
    "**Pavyzdžiui:**"
   ]
  },
  {
   "cell_type": "code",
   "execution_count": null,
   "metadata": {},
   "outputs": [],
   "source": [
    "try:\n",
    "    skaicius = int(input(\"Įveskite skaičių: \"))\n",
    "    rezultatas = 10 / skaicius\n",
    "except ZeroDivisionError:\n",
    "    print(\"Negalima dalinti iš nulio\")\n",
    "except ValueError:\n",
    "    print(\"Neteisingas skaičiaus formatas\")\n",
    "else:\n",
    "    print(\"Rezultatas yra:\", rezultatas)"
   ]
  },
  {
   "cell_type": "markdown",
   "metadata": {},
   "source": [
    ">Dar papildomai, galima naudoti šabloninė `except` bloką, kuris gaudo praeitų `except` blokų klaidas. \n",
    ">>Šitas kodo blokas naudojamas kaip atraminis tam kad ukirstų kelią netikėtam programos elgesiui."
   ]
  },
  {
   "cell_type": "markdown",
   "metadata": {},
   "source": [
    "## Alternatyva: `if` ir `else` naudojimas\n",
    "\n",
    "Galima atlikti klaidų gaudymą naudojant `if-else` kondicijaskaip alternatyva `try-except` metodui. \n",
    "\n",
    "**Pavyzdžiui:**"
   ]
  },
  {
   "cell_type": "code",
   "execution_count": null,
   "metadata": {},
   "outputs": [],
   "source": [
    "skaicius = input(\"Įveskite skaičių: \")\n",
    "\n",
    "if skaicius.isdigit():\n",
    "    skaicius = int(skaicius)\n",
    "    if skaicius == 0:\n",
    "        print(\"Dalyba iš nulio negalima\")\n",
    "    else:\n",
    "        rezultatas = 10 / skaicius\n",
    "        print(\"Rezultatas yra: \", rezultatas)\n",
    "else:\n",
    "    print(\"Negalimas skaičiaus fromatas\")\n",
    "\n",
    "\n",
    "# Rezultatas:\n",
    "\n",
    "# Įveskite skaičių: 0\n",
    "# Dalyba iš nulio negalima\n",
    "\n",
    "# Įveskite skaičių: du\n",
    "# Negalimas skaičiaus formatas\n",
    "\n",
    "# Įveskite skaičių: 3\n",
    "# Rezultatas yra: 3.3333333333333335"
   ]
  },
  {
   "cell_type": "markdown",
   "metadata": {},
   "source": [
    "\n",
    "#### Šis metodas turi pliusų ir minusų. \n",
    "\n",
    ">Vienas pliusas, kad tai lengviau negu `try-except` metodas, ypač kai reikia pagauti vieno tipo klaidą. \n",
    ">>Deja, kai yra kelios klaidos, pavyzdžiui skirtingi penkių klaidų tipai, reikia parašyti penkias kondicijas, potencialiai padarant kodą ilgą ir sunkiai skaitomą.\n"
   ]
  },
  {
   "cell_type": "markdown",
   "metadata": {},
   "source": [
    "### `Užduotis `\n",
    "Parašykite programą, kuri leidžia vartotojui įvesti du skaičius ir atspausdinti jų koeficientą.\n",
    "\n",
    "Jei vartotojas įveda tekstą arba bando padalyti iš nulio, programa turėtų užfiksuoti klaidą ir išspausdinti klaidos pranešimą."
   ]
  },
  {
   "cell_type": "code",
   "execution_count": null,
   "metadata": {},
   "outputs": [],
   "source": [
    "#Jūsų kodas čia"
   ]
  }
 ],
 "metadata": {
  "language_info": {
   "name": "python"
  }
 },
 "nbformat": 4,
 "nbformat_minor": 2
}
